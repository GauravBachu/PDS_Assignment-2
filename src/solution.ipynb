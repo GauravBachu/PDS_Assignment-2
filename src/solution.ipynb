{
 "cells": [
  {
   "cell_type": "code",
   "execution_count": 410,
   "metadata": {},
   "outputs": [],
   "source": [
    "import pandas as pd\n",
    "import numpy as np\n",
    "import matplotlib.pyplot as plt"
   ]
  },
  {
   "cell_type": "code",
   "execution_count": 411,
   "metadata": {},
   "outputs": [],
   "source": [
    "data_set = pd.read_csv('../data_raw/train.csv')"
   ]
  },
  {
   "cell_type": "code",
   "execution_count": 412,
   "metadata": {},
   "outputs": [
    {
     "data": {
      "text/html": [
       "<div>\n",
       "<style scoped>\n",
       "    .dataframe tbody tr th:only-of-type {\n",
       "        vertical-align: middle;\n",
       "    }\n",
       "\n",
       "    .dataframe tbody tr th {\n",
       "        vertical-align: top;\n",
       "    }\n",
       "\n",
       "    .dataframe thead th {\n",
       "        text-align: right;\n",
       "    }\n",
       "</style>\n",
       "<table border=\"1\" class=\"dataframe\">\n",
       "  <thead>\n",
       "    <tr style=\"text-align: right;\">\n",
       "      <th></th>\n",
       "      <th>Unnamed: 0</th>\n",
       "      <th>Name</th>\n",
       "      <th>Location</th>\n",
       "      <th>Year</th>\n",
       "      <th>Kilometers_Driven</th>\n",
       "      <th>Fuel_Type</th>\n",
       "      <th>Transmission</th>\n",
       "      <th>Owner_Type</th>\n",
       "      <th>Mileage</th>\n",
       "      <th>Engine</th>\n",
       "      <th>Power</th>\n",
       "      <th>Seats</th>\n",
       "      <th>New_Price</th>\n",
       "      <th>Price</th>\n",
       "    </tr>\n",
       "  </thead>\n",
       "  <tbody>\n",
       "    <tr>\n",
       "      <th>0</th>\n",
       "      <td>1</td>\n",
       "      <td>Hyundai Creta 1.6 CRDi SX Option</td>\n",
       "      <td>Pune</td>\n",
       "      <td>2015</td>\n",
       "      <td>41000</td>\n",
       "      <td>Diesel</td>\n",
       "      <td>Manual</td>\n",
       "      <td>First</td>\n",
       "      <td>19.67 kmpl</td>\n",
       "      <td>1582 CC</td>\n",
       "      <td>126.2 bhp</td>\n",
       "      <td>5.0</td>\n",
       "      <td>NaN</td>\n",
       "      <td>12.50</td>\n",
       "    </tr>\n",
       "    <tr>\n",
       "      <th>1</th>\n",
       "      <td>2</td>\n",
       "      <td>Honda Jazz V</td>\n",
       "      <td>Chennai</td>\n",
       "      <td>2011</td>\n",
       "      <td>46000</td>\n",
       "      <td>Petrol</td>\n",
       "      <td>Manual</td>\n",
       "      <td>First</td>\n",
       "      <td>13 km/kg</td>\n",
       "      <td>1199 CC</td>\n",
       "      <td>88.7 bhp</td>\n",
       "      <td>5.0</td>\n",
       "      <td>8.61 Lakh</td>\n",
       "      <td>4.50</td>\n",
       "    </tr>\n",
       "    <tr>\n",
       "      <th>2</th>\n",
       "      <td>3</td>\n",
       "      <td>Maruti Ertiga VDI</td>\n",
       "      <td>Chennai</td>\n",
       "      <td>2012</td>\n",
       "      <td>87000</td>\n",
       "      <td>Diesel</td>\n",
       "      <td>Manual</td>\n",
       "      <td>First</td>\n",
       "      <td>20.77 kmpl</td>\n",
       "      <td>1248 CC</td>\n",
       "      <td>88.76 bhp</td>\n",
       "      <td>7.0</td>\n",
       "      <td>NaN</td>\n",
       "      <td>6.00</td>\n",
       "    </tr>\n",
       "    <tr>\n",
       "      <th>3</th>\n",
       "      <td>4</td>\n",
       "      <td>Audi A4 New 2.0 TDI Multitronic</td>\n",
       "      <td>Coimbatore</td>\n",
       "      <td>2013</td>\n",
       "      <td>40670</td>\n",
       "      <td>Diesel</td>\n",
       "      <td>Automatic</td>\n",
       "      <td>Second</td>\n",
       "      <td>15.2 kmpl</td>\n",
       "      <td>1968 CC</td>\n",
       "      <td>140.8 bhp</td>\n",
       "      <td>5.0</td>\n",
       "      <td>NaN</td>\n",
       "      <td>17.74</td>\n",
       "    </tr>\n",
       "    <tr>\n",
       "      <th>4</th>\n",
       "      <td>6</td>\n",
       "      <td>Nissan Micra Diesel XV</td>\n",
       "      <td>Jaipur</td>\n",
       "      <td>2013</td>\n",
       "      <td>86999</td>\n",
       "      <td>Diesel</td>\n",
       "      <td>Manual</td>\n",
       "      <td>First</td>\n",
       "      <td>23.08 kmpl</td>\n",
       "      <td>1461 CC</td>\n",
       "      <td>63.1 bhp</td>\n",
       "      <td>5.0</td>\n",
       "      <td>NaN</td>\n",
       "      <td>3.50</td>\n",
       "    </tr>\n",
       "  </tbody>\n",
       "</table>\n",
       "</div>"
      ],
      "text/plain": [
       "   Unnamed: 0                              Name    Location  Year  \\\n",
       "0           1  Hyundai Creta 1.6 CRDi SX Option        Pune  2015   \n",
       "1           2                      Honda Jazz V     Chennai  2011   \n",
       "2           3                 Maruti Ertiga VDI     Chennai  2012   \n",
       "3           4   Audi A4 New 2.0 TDI Multitronic  Coimbatore  2013   \n",
       "4           6            Nissan Micra Diesel XV      Jaipur  2013   \n",
       "\n",
       "   Kilometers_Driven Fuel_Type Transmission Owner_Type     Mileage   Engine  \\\n",
       "0              41000    Diesel       Manual      First  19.67 kmpl  1582 CC   \n",
       "1              46000    Petrol       Manual      First    13 km/kg  1199 CC   \n",
       "2              87000    Diesel       Manual      First  20.77 kmpl  1248 CC   \n",
       "3              40670    Diesel    Automatic     Second   15.2 kmpl  1968 CC   \n",
       "4              86999    Diesel       Manual      First  23.08 kmpl  1461 CC   \n",
       "\n",
       "       Power  Seats  New_Price  Price  \n",
       "0  126.2 bhp    5.0        NaN  12.50  \n",
       "1   88.7 bhp    5.0  8.61 Lakh   4.50  \n",
       "2  88.76 bhp    7.0        NaN   6.00  \n",
       "3  140.8 bhp    5.0        NaN  17.74  \n",
       "4   63.1 bhp    5.0        NaN   3.50  "
      ]
     },
     "execution_count": 412,
     "metadata": {},
     "output_type": "execute_result"
    }
   ],
   "source": [
    "data_set.head()"
   ]
  },
  {
   "cell_type": "code",
   "execution_count": 413,
   "metadata": {},
   "outputs": [
    {
     "name": "stdout",
     "output_type": "stream",
     "text": [
      "<class 'pandas.core.frame.DataFrame'>\n",
      "RangeIndex: 5847 entries, 0 to 5846\n",
      "Data columns (total 14 columns):\n",
      " #   Column             Non-Null Count  Dtype  \n",
      "---  ------             --------------  -----  \n",
      " 0   Unnamed: 0         5847 non-null   int64  \n",
      " 1   Name               5847 non-null   object \n",
      " 2   Location           5847 non-null   object \n",
      " 3   Year               5847 non-null   int64  \n",
      " 4   Kilometers_Driven  5847 non-null   int64  \n",
      " 5   Fuel_Type          5847 non-null   object \n",
      " 6   Transmission       5847 non-null   object \n",
      " 7   Owner_Type         5847 non-null   object \n",
      " 8   Mileage            5845 non-null   object \n",
      " 9   Engine             5811 non-null   object \n",
      " 10  Power              5811 non-null   object \n",
      " 11  Seats              5809 non-null   float64\n",
      " 12  New_Price          815 non-null    object \n",
      " 13  Price              5847 non-null   float64\n",
      "dtypes: float64(2), int64(3), object(9)\n",
      "memory usage: 639.6+ KB\n"
     ]
    }
   ],
   "source": [
    "data_set.info()"
   ]
  },
  {
   "cell_type": "code",
   "execution_count": 414,
   "metadata": {},
   "outputs": [
    {
     "data": {
      "text/html": [
       "<div>\n",
       "<style scoped>\n",
       "    .dataframe tbody tr th:only-of-type {\n",
       "        vertical-align: middle;\n",
       "    }\n",
       "\n",
       "    .dataframe tbody tr th {\n",
       "        vertical-align: top;\n",
       "    }\n",
       "\n",
       "    .dataframe thead th {\n",
       "        text-align: right;\n",
       "    }\n",
       "</style>\n",
       "<table border=\"1\" class=\"dataframe\">\n",
       "  <thead>\n",
       "    <tr style=\"text-align: right;\">\n",
       "      <th></th>\n",
       "      <th>Unnamed: 0</th>\n",
       "      <th>Year</th>\n",
       "      <th>Kilometers_Driven</th>\n",
       "      <th>Seats</th>\n",
       "      <th>Price</th>\n",
       "    </tr>\n",
       "  </thead>\n",
       "  <tbody>\n",
       "    <tr>\n",
       "      <th>count</th>\n",
       "      <td>5847.000000</td>\n",
       "      <td>5847.000000</td>\n",
       "      <td>5.847000e+03</td>\n",
       "      <td>5809.000000</td>\n",
       "      <td>5847.000000</td>\n",
       "    </tr>\n",
       "    <tr>\n",
       "      <th>mean</th>\n",
       "      <td>3013.181461</td>\n",
       "      <td>2013.448435</td>\n",
       "      <td>5.841013e+04</td>\n",
       "      <td>5.286452</td>\n",
       "      <td>9.653742</td>\n",
       "    </tr>\n",
       "    <tr>\n",
       "      <th>std</th>\n",
       "      <td>1736.398890</td>\n",
       "      <td>3.194949</td>\n",
       "      <td>9.237971e+04</td>\n",
       "      <td>0.806668</td>\n",
       "      <td>11.275966</td>\n",
       "    </tr>\n",
       "    <tr>\n",
       "      <th>min</th>\n",
       "      <td>1.000000</td>\n",
       "      <td>1998.000000</td>\n",
       "      <td>1.710000e+02</td>\n",
       "      <td>2.000000</td>\n",
       "      <td>0.440000</td>\n",
       "    </tr>\n",
       "    <tr>\n",
       "      <th>25%</th>\n",
       "      <td>1509.500000</td>\n",
       "      <td>2012.000000</td>\n",
       "      <td>3.346750e+04</td>\n",
       "      <td>5.000000</td>\n",
       "      <td>3.550000</td>\n",
       "    </tr>\n",
       "    <tr>\n",
       "      <th>50%</th>\n",
       "      <td>3015.000000</td>\n",
       "      <td>2014.000000</td>\n",
       "      <td>5.257600e+04</td>\n",
       "      <td>5.000000</td>\n",
       "      <td>5.750000</td>\n",
       "    </tr>\n",
       "    <tr>\n",
       "      <th>75%</th>\n",
       "      <td>4517.500000</td>\n",
       "      <td>2016.000000</td>\n",
       "      <td>7.249050e+04</td>\n",
       "      <td>5.000000</td>\n",
       "      <td>10.250000</td>\n",
       "    </tr>\n",
       "    <tr>\n",
       "      <th>max</th>\n",
       "      <td>6018.000000</td>\n",
       "      <td>2019.000000</td>\n",
       "      <td>6.500000e+06</td>\n",
       "      <td>10.000000</td>\n",
       "      <td>160.000000</td>\n",
       "    </tr>\n",
       "  </tbody>\n",
       "</table>\n",
       "</div>"
      ],
      "text/plain": [
       "        Unnamed: 0         Year  Kilometers_Driven        Seats        Price\n",
       "count  5847.000000  5847.000000       5.847000e+03  5809.000000  5847.000000\n",
       "mean   3013.181461  2013.448435       5.841013e+04     5.286452     9.653742\n",
       "std    1736.398890     3.194949       9.237971e+04     0.806668    11.275966\n",
       "min       1.000000  1998.000000       1.710000e+02     2.000000     0.440000\n",
       "25%    1509.500000  2012.000000       3.346750e+04     5.000000     3.550000\n",
       "50%    3015.000000  2014.000000       5.257600e+04     5.000000     5.750000\n",
       "75%    4517.500000  2016.000000       7.249050e+04     5.000000    10.250000\n",
       "max    6018.000000  2019.000000       6.500000e+06    10.000000   160.000000"
      ]
     },
     "execution_count": 414,
     "metadata": {},
     "output_type": "execute_result"
    }
   ],
   "source": [
    "data_set.describe()"
   ]
  },
  {
   "cell_type": "code",
   "execution_count": 415,
   "metadata": {},
   "outputs": [
    {
     "name": "stdout",
     "output_type": "stream",
     "text": [
      "      Unnamed: 0                              Name    Location  Year  \\\n",
      "0              1  Hyundai Creta 1.6 CRDi SX Option        Pune  2015   \n",
      "1              2                      Honda Jazz V     Chennai  2011   \n",
      "2              3                 Maruti Ertiga VDI     Chennai  2012   \n",
      "3              4   Audi A4 New 2.0 TDI Multitronic  Coimbatore  2013   \n",
      "4              6            Nissan Micra Diesel XV      Jaipur  2013   \n",
      "...          ...                               ...         ...   ...   \n",
      "5842        6014                  Maruti Swift VDI       Delhi  2014   \n",
      "5843        6015          Hyundai Xcent 1.1 CRDi S      Jaipur  2015   \n",
      "5844        6016             Mahindra Xylo D4 BSIV      Jaipur  2012   \n",
      "5845        6017                Maruti Wagon R VXI     Kolkata  2013   \n",
      "5846        6018             Chevrolet Beat Diesel   Hyderabad  2011   \n",
      "\n",
      "      Kilometers_Driven Fuel_Type Transmission Owner_Type     Mileage  \\\n",
      "0                 41000    Diesel       Manual      First  19.67 kmpl   \n",
      "1                 46000    Petrol       Manual      First    13 km/kg   \n",
      "2                 87000    Diesel       Manual      First  20.77 kmpl   \n",
      "3                 40670    Diesel    Automatic     Second   15.2 kmpl   \n",
      "4                 86999    Diesel       Manual      First  23.08 kmpl   \n",
      "...                 ...       ...          ...        ...         ...   \n",
      "5842              27365    Diesel       Manual      First   28.4 kmpl   \n",
      "5843             100000    Diesel       Manual      First   24.4 kmpl   \n",
      "5844              55000    Diesel       Manual     Second   14.0 kmpl   \n",
      "5845              46000    Petrol       Manual      First   18.9 kmpl   \n",
      "5846              47000    Diesel       Manual      First  25.44 kmpl   \n",
      "\n",
      "       Engine      Power  Seats  New_Price  Price  \n",
      "0     1582 CC  126.2 bhp    5.0        NaN  12.50  \n",
      "1     1199 CC   88.7 bhp    5.0  8.61 Lakh   4.50  \n",
      "2     1248 CC  88.76 bhp    7.0        NaN   6.00  \n",
      "3     1968 CC  140.8 bhp    5.0        NaN  17.74  \n",
      "4     1461 CC   63.1 bhp    5.0        NaN   3.50  \n",
      "...       ...        ...    ...        ...    ...  \n",
      "5842  1248 CC     74 bhp    5.0  7.88 Lakh   4.75  \n",
      "5843  1120 CC     71 bhp    5.0        NaN   4.00  \n",
      "5844  2498 CC    112 bhp    8.0        NaN   2.90  \n",
      "5845   998 CC   67.1 bhp    5.0        NaN   2.65  \n",
      "5846   936 CC   57.6 bhp    5.0        NaN   2.50  \n",
      "\n",
      "[5847 rows x 14 columns]\n"
     ]
    }
   ],
   "source": [
    "print(data_set)"
   ]
  },
  {
   "cell_type": "markdown",
   "metadata": {},
   "source": [
    "#### b.Remove the units from some of the attributes and only keep the numerical values (forexample remove kmpl from “Mileage”, CC from “Engine”, bhp from “Power”, and lakh from “New_price”)."
   ]
  },
  {
   "cell_type": "code",
   "execution_count": 416,
   "metadata": {},
   "outputs": [],
   "source": [
    "data_set['Mileage'] = data_set['Mileage'].str.replace(' kmpl', '')\n",
    "data_set['Mileage'] = data_set['Mileage'].str.replace(' km/kg', '')\n",
    "data_set['Mileage'] = pd.to_numeric(data_set['Mileage'], errors='coerce')"
   ]
  },
  {
   "cell_type": "code",
   "execution_count": 417,
   "metadata": {},
   "outputs": [],
   "source": [
    "data_set['Engine'] = data_set['Engine'].str.replace(' CC', '')\n",
    "data_set['Engine'] = pd.to_numeric(data_set['Engine'], errors='coerce')"
   ]
  },
  {
   "cell_type": "code",
   "execution_count": 418,
   "metadata": {},
   "outputs": [],
   "source": [
    "data_set['Power'] = data_set['Power'].str.replace('null', '0.0')\n",
    "data_set['Power'] = data_set['Power'].str.replace(' bhp', '')\n",
    "data_set['Power'] = pd.to_numeric(data_set['Power'], errors='coerce')"
   ]
  },
  {
   "cell_type": "code",
   "execution_count": 419,
   "metadata": {},
   "outputs": [],
   "source": [
    "data_set['New_Price'] = data_set['New_Price'].str.replace(' Lakh', '')\n",
    "data_set['New_Price'] = pd.to_numeric(data_set['New_Price'], errors='coerce')"
   ]
  },
  {
   "cell_type": "code",
   "execution_count": 420,
   "metadata": {},
   "outputs": [
    {
     "data": {
      "text/html": [
       "<div>\n",
       "<style scoped>\n",
       "    .dataframe tbody tr th:only-of-type {\n",
       "        vertical-align: middle;\n",
       "    }\n",
       "\n",
       "    .dataframe tbody tr th {\n",
       "        vertical-align: top;\n",
       "    }\n",
       "\n",
       "    .dataframe thead th {\n",
       "        text-align: right;\n",
       "    }\n",
       "</style>\n",
       "<table border=\"1\" class=\"dataframe\">\n",
       "  <thead>\n",
       "    <tr style=\"text-align: right;\">\n",
       "      <th></th>\n",
       "      <th>Unnamed: 0</th>\n",
       "      <th>Name</th>\n",
       "      <th>Location</th>\n",
       "      <th>Year</th>\n",
       "      <th>Kilometers_Driven</th>\n",
       "      <th>Fuel_Type</th>\n",
       "      <th>Transmission</th>\n",
       "      <th>Owner_Type</th>\n",
       "      <th>Mileage</th>\n",
       "      <th>Engine</th>\n",
       "      <th>Power</th>\n",
       "      <th>Seats</th>\n",
       "      <th>New_Price</th>\n",
       "      <th>Price</th>\n",
       "    </tr>\n",
       "  </thead>\n",
       "  <tbody>\n",
       "    <tr>\n",
       "      <th>0</th>\n",
       "      <td>1</td>\n",
       "      <td>Hyundai Creta 1.6 CRDi SX Option</td>\n",
       "      <td>Pune</td>\n",
       "      <td>2015</td>\n",
       "      <td>41000</td>\n",
       "      <td>Diesel</td>\n",
       "      <td>Manual</td>\n",
       "      <td>First</td>\n",
       "      <td>19.67</td>\n",
       "      <td>1582.0</td>\n",
       "      <td>126.20</td>\n",
       "      <td>5.0</td>\n",
       "      <td>NaN</td>\n",
       "      <td>12.50</td>\n",
       "    </tr>\n",
       "    <tr>\n",
       "      <th>1</th>\n",
       "      <td>2</td>\n",
       "      <td>Honda Jazz V</td>\n",
       "      <td>Chennai</td>\n",
       "      <td>2011</td>\n",
       "      <td>46000</td>\n",
       "      <td>Petrol</td>\n",
       "      <td>Manual</td>\n",
       "      <td>First</td>\n",
       "      <td>13.00</td>\n",
       "      <td>1199.0</td>\n",
       "      <td>88.70</td>\n",
       "      <td>5.0</td>\n",
       "      <td>8.61</td>\n",
       "      <td>4.50</td>\n",
       "    </tr>\n",
       "    <tr>\n",
       "      <th>2</th>\n",
       "      <td>3</td>\n",
       "      <td>Maruti Ertiga VDI</td>\n",
       "      <td>Chennai</td>\n",
       "      <td>2012</td>\n",
       "      <td>87000</td>\n",
       "      <td>Diesel</td>\n",
       "      <td>Manual</td>\n",
       "      <td>First</td>\n",
       "      <td>20.77</td>\n",
       "      <td>1248.0</td>\n",
       "      <td>88.76</td>\n",
       "      <td>7.0</td>\n",
       "      <td>NaN</td>\n",
       "      <td>6.00</td>\n",
       "    </tr>\n",
       "    <tr>\n",
       "      <th>3</th>\n",
       "      <td>4</td>\n",
       "      <td>Audi A4 New 2.0 TDI Multitronic</td>\n",
       "      <td>Coimbatore</td>\n",
       "      <td>2013</td>\n",
       "      <td>40670</td>\n",
       "      <td>Diesel</td>\n",
       "      <td>Automatic</td>\n",
       "      <td>Second</td>\n",
       "      <td>15.20</td>\n",
       "      <td>1968.0</td>\n",
       "      <td>140.80</td>\n",
       "      <td>5.0</td>\n",
       "      <td>NaN</td>\n",
       "      <td>17.74</td>\n",
       "    </tr>\n",
       "    <tr>\n",
       "      <th>4</th>\n",
       "      <td>6</td>\n",
       "      <td>Nissan Micra Diesel XV</td>\n",
       "      <td>Jaipur</td>\n",
       "      <td>2013</td>\n",
       "      <td>86999</td>\n",
       "      <td>Diesel</td>\n",
       "      <td>Manual</td>\n",
       "      <td>First</td>\n",
       "      <td>23.08</td>\n",
       "      <td>1461.0</td>\n",
       "      <td>63.10</td>\n",
       "      <td>5.0</td>\n",
       "      <td>NaN</td>\n",
       "      <td>3.50</td>\n",
       "    </tr>\n",
       "  </tbody>\n",
       "</table>\n",
       "</div>"
      ],
      "text/plain": [
       "   Unnamed: 0                              Name    Location  Year  \\\n",
       "0           1  Hyundai Creta 1.6 CRDi SX Option        Pune  2015   \n",
       "1           2                      Honda Jazz V     Chennai  2011   \n",
       "2           3                 Maruti Ertiga VDI     Chennai  2012   \n",
       "3           4   Audi A4 New 2.0 TDI Multitronic  Coimbatore  2013   \n",
       "4           6            Nissan Micra Diesel XV      Jaipur  2013   \n",
       "\n",
       "   Kilometers_Driven Fuel_Type Transmission Owner_Type  Mileage  Engine  \\\n",
       "0              41000    Diesel       Manual      First    19.67  1582.0   \n",
       "1              46000    Petrol       Manual      First    13.00  1199.0   \n",
       "2              87000    Diesel       Manual      First    20.77  1248.0   \n",
       "3              40670    Diesel    Automatic     Second    15.20  1968.0   \n",
       "4              86999    Diesel       Manual      First    23.08  1461.0   \n",
       "\n",
       "    Power  Seats  New_Price  Price  \n",
       "0  126.20    5.0        NaN  12.50  \n",
       "1   88.70    5.0       8.61   4.50  \n",
       "2   88.76    7.0        NaN   6.00  \n",
       "3  140.80    5.0        NaN  17.74  \n",
       "4   63.10    5.0        NaN   3.50  "
      ]
     },
     "execution_count": 420,
     "metadata": {},
     "output_type": "execute_result"
    }
   ],
   "source": [
    "data_set.head()"
   ]
  },
  {
   "cell_type": "markdown",
   "metadata": {},
   "source": [
    "#### a.Look for the missing values in all the columns and either impute them (replace with mean,median, or mode) or drop them. Justify your action for this task. \n"
   ]
  },
  {
   "cell_type": "code",
   "execution_count": 421,
   "metadata": {},
   "outputs": [
    {
     "data": {
      "text/plain": [
       "Unnamed: 0              0\n",
       "Name                    0\n",
       "Location                0\n",
       "Year                    0\n",
       "Kilometers_Driven       0\n",
       "Fuel_Type               0\n",
       "Transmission            0\n",
       "Owner_Type              0\n",
       "Mileage                 2\n",
       "Engine                 36\n",
       "Power                  36\n",
       "Seats                  38\n",
       "New_Price            5049\n",
       "Price                   0\n",
       "dtype: int64"
      ]
     },
     "execution_count": 421,
     "metadata": {},
     "output_type": "execute_result"
    }
   ],
   "source": [
    "# Missing values in each column:\n",
    "data_set.isnull().sum()"
   ]
  },
  {
   "cell_type": "code",
   "execution_count": 422,
   "metadata": {},
   "outputs": [
    {
     "name": "stdout",
     "output_type": "stream",
     "text": [
      "Mean of Mileage =  18.283619293712317\n"
     ]
    },
    {
     "name": "stderr",
     "output_type": "stream",
     "text": [
      "/var/folders/sx/821x_2t93zj9437z5pc0wmbh0000gn/T/ipykernel_34498/1327931223.py:1: FutureWarning: A value is trying to be set on a copy of a DataFrame or Series through chained assignment using an inplace method.\n",
      "The behavior will change in pandas 3.0. This inplace method will never work because the intermediate object on which we are setting values always behaves as a copy.\n",
      "\n",
      "For example, when doing 'df[col].method(value, inplace=True)', try using 'df.method({col: value}, inplace=True)' or df[col] = df[col].method(value) instead, to perform the operation inplace on the original object.\n",
      "\n",
      "\n",
      "  data_set['Mileage'].replace(0.0,np.nan,inplace=True)\n"
     ]
    }
   ],
   "source": [
    "data_set['Mileage'].replace(0.0,np.nan,inplace=True)\n",
    "print(\"Mean of Mileage = \",np.mean(data_set['Mileage']))\n",
    "data_set.fillna({'Mileage': np.mean(data_set['Mileage'])}, inplace=True)\n"
   ]
  },
  {
   "cell_type": "code",
   "execution_count": 423,
   "metadata": {},
   "outputs": [
    {
     "name": "stdout",
     "output_type": "stream",
     "text": [
      "Mean of Engine = 1631.552572706935\n"
     ]
    },
    {
     "name": "stderr",
     "output_type": "stream",
     "text": [
      "/var/folders/sx/821x_2t93zj9437z5pc0wmbh0000gn/T/ipykernel_34498/2109399130.py:1: FutureWarning: A value is trying to be set on a copy of a DataFrame or Series through chained assignment using an inplace method.\n",
      "The behavior will change in pandas 3.0. This inplace method will never work because the intermediate object on which we are setting values always behaves as a copy.\n",
      "\n",
      "For example, when doing 'df[col].method(value, inplace=True)', try using 'df.method({col: value}, inplace=True)' or df[col] = df[col].method(value) instead, to perform the operation inplace on the original object.\n",
      "\n",
      "\n",
      "  data_set['Engine'].replace(0.0,np.nan,inplace=True)\n"
     ]
    }
   ],
   "source": [
    "data_set['Engine'].replace(0.0,np.nan,inplace=True)\n",
    "print(\"Mean of Engine =\",np.mean(data_set['Engine']))\n",
    "data_set.fillna({'Engine': np.mean(data_set['Engine'])}, inplace=True)"
   ]
  },
  {
   "cell_type": "code",
   "execution_count": 424,
   "metadata": {},
   "outputs": [
    {
     "name": "stdout",
     "output_type": "stream",
     "text": [
      "Mean of Power = 113.80314403717087\n"
     ]
    },
    {
     "name": "stderr",
     "output_type": "stream",
     "text": [
      "/var/folders/sx/821x_2t93zj9437z5pc0wmbh0000gn/T/ipykernel_34498/2480071014.py:1: FutureWarning: A value is trying to be set on a copy of a DataFrame or Series through chained assignment using an inplace method.\n",
      "The behavior will change in pandas 3.0. This inplace method will never work because the intermediate object on which we are setting values always behaves as a copy.\n",
      "\n",
      "For example, when doing 'df[col].method(value, inplace=True)', try using 'df.method({col: value}, inplace=True)' or df[col] = df[col].method(value) instead, to perform the operation inplace on the original object.\n",
      "\n",
      "\n",
      "  data_set['Power'].replace(0.0,np.nan,inplace=True)\n"
     ]
    }
   ],
   "source": [
    "data_set['Power'].replace(0.0,np.nan,inplace=True)\n",
    "print(\"Mean of Power =\",np.mean(data_set['Power']))\n",
    "data_set.fillna({'Power': np.mean(data_set['Power'])}, inplace=True)"
   ]
  },
  {
   "cell_type": "code",
   "execution_count": 425,
   "metadata": {},
   "outputs": [
    {
     "name": "stdout",
     "output_type": "stream",
     "text": [
      "Mean of New_Price = 20.89221804511278\n"
     ]
    },
    {
     "name": "stderr",
     "output_type": "stream",
     "text": [
      "/var/folders/sx/821x_2t93zj9437z5pc0wmbh0000gn/T/ipykernel_34498/3053776999.py:1: FutureWarning: A value is trying to be set on a copy of a DataFrame or Series through chained assignment using an inplace method.\n",
      "The behavior will change in pandas 3.0. This inplace method will never work because the intermediate object on which we are setting values always behaves as a copy.\n",
      "\n",
      "For example, when doing 'df[col].method(value, inplace=True)', try using 'df.method({col: value}, inplace=True)' or df[col] = df[col].method(value) instead, to perform the operation inplace on the original object.\n",
      "\n",
      "\n",
      "  data_set['New_Price'].replace(0.0,np.nan,inplace=True)\n"
     ]
    }
   ],
   "source": [
    "data_set['New_Price'].replace(0.0,np.nan,inplace=True)\n",
    "print(\"Mean of New_Price =\",np.mean(data_set['New_Price']))\n",
    "data_set.fillna({'New_Price': np.mean(data_set['New_Price'])}, inplace=True)\n",
    "data_set['New_Price']=data_set['New_Price'].fillna(np.mean(data_set['New_Price']))"
   ]
  },
  {
   "cell_type": "code",
   "execution_count": 426,
   "metadata": {},
   "outputs": [
    {
     "name": "stderr",
     "output_type": "stream",
     "text": [
      "/var/folders/sx/821x_2t93zj9437z5pc0wmbh0000gn/T/ipykernel_34498/566603442.py:8: FutureWarning: A value is trying to be set on a copy of a DataFrame or Series through chained assignment using an inplace method.\n",
      "The behavior will change in pandas 3.0. This inplace method will never work because the intermediate object on which we are setting values always behaves as a copy.\n",
      "\n",
      "For example, when doing 'df[col].method(value, inplace=True)', try using 'df.method({col: value}, inplace=True)' or df[col] = df[col].method(value) instead, to perform the operation inplace on the original object.\n",
      "\n",
      "\n",
      "  data_set[col].fillna(data_set[col].mean(), inplace=True)\n",
      "/var/folders/sx/821x_2t93zj9437z5pc0wmbh0000gn/T/ipykernel_34498/566603442.py:6: FutureWarning: A value is trying to be set on a copy of a DataFrame or Series through chained assignment using an inplace method.\n",
      "The behavior will change in pandas 3.0. This inplace method will never work because the intermediate object on which we are setting values always behaves as a copy.\n",
      "\n",
      "For example, when doing 'df[col].method(value, inplace=True)', try using 'df.method({col: value}, inplace=True)' or df[col] = df[col].method(value) instead, to perform the operation inplace on the original object.\n",
      "\n",
      "\n",
      "  data_set[col].fillna(data_set[col].mode()[0], inplace=True)\n"
     ]
    },
    {
     "data": {
      "image/png": "[encoded data removed]",
      "text/plain": [
       "<Figure size 800x600 with 1 Axes>"
      ]
     },
     "metadata": {},
     "output_type": "display_data"
    }
   ],
   "source": [
    "columns_to_fill = [\"Mileage\", \"Engine\", \"Power\", \"Seats\", \"New_Price\"]\n",
    "# pastel_colors = ['#FFC3C0', '#FFDBAC', '#FFF8DC', '#E0FFFF', '#E6E6FA']\n",
    "dark_colors = ['#8B0000', '#8B4513', '#483D8B', '#2F4F4F', '#4B0082']\n",
    "for col, color in zip(columns_to_fill, dark_colors):\n",
    "    if col == \"Seats\":\n",
    "        data_set[col].fillna(data_set[col].mode()[0], inplace=True)\n",
    "    else:\n",
    "        data_set[col].fillna(data_set[col].mean(), inplace=True)\n",
    "\n",
    "means = [data_set[col].mean() for col in columns_to_fill]\n",
    "column_names = [\"Mileage\", \"Engine\", \"Power\", \"Seats\", \"New_Price\"]\n",
    "\n",
    "\n",
    "plt.figure(figsize=(8, 6))\n",
    "plt.bar(column_names, means, color=dark_colors)\n",
    "plt.xlabel(\"Specific columns\")\n",
    "plt.ylabel(\"Means\")\n",
    "plt.title(\"Means of Columns\")\n",
    "\n",
    "plt.savefig(\"../results/means_of_columns.png\")\n",
    "\n",
    "plt.show()"
   ]
  },
  {
   "cell_type": "code",
   "execution_count": 427,
   "metadata": {},
   "outputs": [
    {
     "name": "stderr",
     "output_type": "stream",
     "text": [
      "/var/folders/sx/821x_2t93zj9437z5pc0wmbh0000gn/T/ipykernel_34498/4202284495.py:1: FutureWarning: A value is trying to be set on a copy of a DataFrame or Series through chained assignment using an inplace method.\n",
      "The behavior will change in pandas 3.0. This inplace method will never work because the intermediate object on which we are setting values always behaves as a copy.\n",
      "\n",
      "For example, when doing 'df[col].method(value, inplace=True)', try using 'df.method({col: value}, inplace=True)' or df[col] = df[col].method(value) instead, to perform the operation inplace on the original object.\n",
      "\n",
      "\n",
      "  data_set[\"Mileage\"].fillna(data_set[\"Mileage\"].mean(), inplace=True)\n",
      "/var/folders/sx/821x_2t93zj9437z5pc0wmbh0000gn/T/ipykernel_34498/4202284495.py:2: FutureWarning: A value is trying to be set on a copy of a DataFrame or Series through chained assignment using an inplace method.\n",
      "The behavior will change in pandas 3.0. This inplace method will never work because the intermediate object on which we are setting values always behaves as a copy.\n",
      "\n",
      "For example, when doing 'df[col].method(value, inplace=True)', try using 'df.method({col: value}, inplace=True)' or df[col] = df[col].method(value) instead, to perform the operation inplace on the original object.\n",
      "\n",
      "\n",
      "  data_set[\"Engine\"].fillna(data_set[\"Engine\"].mean(), inplace=True)\n",
      "/var/folders/sx/821x_2t93zj9437z5pc0wmbh0000gn/T/ipykernel_34498/4202284495.py:3: FutureWarning: A value is trying to be set on a copy of a DataFrame or Series through chained assignment using an inplace method.\n",
      "The behavior will change in pandas 3.0. This inplace method will never work because the intermediate object on which we are setting values always behaves as a copy.\n",
      "\n",
      "For example, when doing 'df[col].method(value, inplace=True)', try using 'df.method({col: value}, inplace=True)' or df[col] = df[col].method(value) instead, to perform the operation inplace on the original object.\n",
      "\n",
      "\n",
      "  data_set[\"Power\"].fillna(data_set[\"Power\"].mean(), inplace=True)\n",
      "/var/folders/sx/821x_2t93zj9437z5pc0wmbh0000gn/T/ipykernel_34498/4202284495.py:4: FutureWarning: A value is trying to be set on a copy of a DataFrame or Series through chained assignment using an inplace method.\n",
      "The behavior will change in pandas 3.0. This inplace method will never work because the intermediate object on which we are setting values always behaves as a copy.\n",
      "\n",
      "For example, when doing 'df[col].method(value, inplace=True)', try using 'df.method({col: value}, inplace=True)' or df[col] = df[col].method(value) instead, to perform the operation inplace on the original object.\n",
      "\n",
      "\n",
      "  data_set[\"Seats\"].fillna(data_set[\"Seats\"].mode()[0], inplace=True)\n",
      "/var/folders/sx/821x_2t93zj9437z5pc0wmbh0000gn/T/ipykernel_34498/4202284495.py:5: FutureWarning: A value is trying to be set on a copy of a DataFrame or Series through chained assignment using an inplace method.\n",
      "The behavior will change in pandas 3.0. This inplace method will never work because the intermediate object on which we are setting values always behaves as a copy.\n",
      "\n",
      "For example, when doing 'df[col].method(value, inplace=True)', try using 'df.method({col: value}, inplace=True)' or df[col] = df[col].method(value) instead, to perform the operation inplace on the original object.\n",
      "\n",
      "\n",
      "  data_set[\"New_Price\"].fillna(0, inplace=True)\n"
     ]
    }
   ],
   "source": [
    "data_set[\"Mileage\"].fillna(data_set[\"Mileage\"].mean(), inplace=True)\n",
    "data_set[\"Engine\"].fillna(data_set[\"Engine\"].mean(), inplace=True)\n",
    "data_set[\"Power\"].fillna(data_set[\"Power\"].mean(), inplace=True)\n",
    "data_set[\"Seats\"].fillna(data_set[\"Seats\"].mode()[0], inplace=True)\n",
    "data_set[\"New_Price\"].fillna(0, inplace=True)\n",
    "\n",
    "data_set.dropna(inplace=True)"
   ]
  },
  {
   "cell_type": "code",
   "execution_count": 428,
   "metadata": {},
   "outputs": [
    {
     "name": "stdout",
     "output_type": "stream",
     "text": [
      "      Unnamed: 0                              Name    Location  Year  \\\n",
      "0              1  Hyundai Creta 1.6 CRDi SX Option        Pune  2015   \n",
      "1              2                      Honda Jazz V     Chennai  2011   \n",
      "2              3                 Maruti Ertiga VDI     Chennai  2012   \n",
      "3              4   Audi A4 New 2.0 TDI Multitronic  Coimbatore  2013   \n",
      "4              6            Nissan Micra Diesel XV      Jaipur  2013   \n",
      "...          ...                               ...         ...   ...   \n",
      "5842        6014                  Maruti Swift VDI       Delhi  2014   \n",
      "5843        6015          Hyundai Xcent 1.1 CRDi S      Jaipur  2015   \n",
      "5844        6016             Mahindra Xylo D4 BSIV      Jaipur  2012   \n",
      "5845        6017                Maruti Wagon R VXI     Kolkata  2013   \n",
      "5846        6018             Chevrolet Beat Diesel   Hyderabad  2011   \n",
      "\n",
      "      Kilometers_Driven Fuel_Type Transmission Owner_Type  Mileage  Engine  \\\n",
      "0                 41000    Diesel       Manual      First    19.67  1582.0   \n",
      "1                 46000    Petrol       Manual      First    13.00  1199.0   \n",
      "2                 87000    Diesel       Manual      First    20.77  1248.0   \n",
      "3                 40670    Diesel    Automatic     Second    15.20  1968.0   \n",
      "4                 86999    Diesel       Manual      First    23.08  1461.0   \n",
      "...                 ...       ...          ...        ...      ...     ...   \n",
      "5842              27365    Diesel       Manual      First    28.40  1248.0   \n",
      "5843             100000    Diesel       Manual      First    24.40  1120.0   \n",
      "5844              55000    Diesel       Manual     Second    14.00  2498.0   \n",
      "5845              46000    Petrol       Manual      First    18.90   998.0   \n",
      "5846              47000    Diesel       Manual      First    25.44   936.0   \n",
      "\n",
      "       Power  Seats  New_Price  Price  \n",
      "0     126.20    5.0  20.892218  12.50  \n",
      "1      88.70    5.0   8.610000   4.50  \n",
      "2      88.76    7.0  20.892218   6.00  \n",
      "3     140.80    5.0  20.892218  17.74  \n",
      "4      63.10    5.0  20.892218   3.50  \n",
      "...      ...    ...        ...    ...  \n",
      "5842   74.00    5.0   7.880000   4.75  \n",
      "5843   71.00    5.0  20.892218   4.00  \n",
      "5844  112.00    8.0  20.892218   2.90  \n",
      "5845   67.10    5.0  20.892218   2.65  \n",
      "5846   57.60    5.0  20.892218   2.50  \n",
      "\n",
      "[5847 rows x 14 columns]\n"
     ]
    }
   ],
   "source": [
    "print(data_set)"
   ]
  },
  {
   "cell_type": "markdown",
   "metadata": {},
   "source": []
  }
 ],
 "metadata": {
  "kernelspec": {
   "display_name": "venv",
   "language": "python",
   "name": "python3"
  },
  "language_info": {
   "codemirror_mode": {
    "name": "ipython",
    "version": 3
   },
   "file_extension": ".py",
   "mimetype": "text/x-python",
   "name": "python",
   "nbconvert_exporter": "python",
   "pygments_lexer": "ipython3",
   "version": "3.11.5"
  },
  "orig_nbformat": 4
 },
 "nbformat": 4,
 "nbformat_minor": 2
}
